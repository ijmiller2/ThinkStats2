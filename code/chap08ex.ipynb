{
 "cells": [
  {
   "cell_type": "markdown",
   "metadata": {},
   "source": [
    "# Examples and Exercises from Think Stats, 2nd Edition\n",
    "\n",
    "http://thinkstats2.com\n",
    "\n",
    "Copyright 2016 Allen B. Downey\n",
    "\n",
    "MIT License: https://opensource.org/licenses/MIT\n"
   ]
  },
  {
   "cell_type": "code",
   "execution_count": 1,
   "metadata": {},
   "outputs": [],
   "source": [
    "from __future__ import print_function, division\n",
    "\n",
    "%matplotlib inline\n",
    "\n",
    "import numpy as np\n",
    "\n",
    "import brfss\n",
    "\n",
    "import thinkstats2\n",
    "import thinkplot"
   ]
  },
  {
   "cell_type": "markdown",
   "metadata": {},
   "source": [
    "## The estimation game\n"
   ]
  },
  {
   "cell_type": "markdown",
   "metadata": {},
   "source": [
    "Root mean squared error is one of several ways to summarize the average error of an estimation process."
   ]
  },
  {
   "cell_type": "code",
   "execution_count": 2,
   "metadata": {},
   "outputs": [],
   "source": [
    "def RMSE(estimates, actual):\n",
    "    \"\"\"Computes the root mean squared error of a sequence of estimates.\n",
    "\n",
    "    estimate: sequence of numbers\n",
    "    actual: actual value\n",
    "\n",
    "    returns: float RMSE\n",
    "    \"\"\"\n",
    "    e2 = [(estimate-actual)**2 for estimate in estimates]\n",
    "    mse = np.mean(e2)\n",
    "    return np.sqrt(mse)"
   ]
  },
  {
   "cell_type": "markdown",
   "metadata": {},
   "source": [
    "The following function simulates experiments where we try to estimate the mean of a population based on a sample with size `n=7`.  We run `iters=1000` experiments and collect the mean and median of each sample."
   ]
  },
  {
   "cell_type": "code",
   "execution_count": 3,
   "metadata": {},
   "outputs": [
    {
     "name": "stdout",
     "output_type": "stream",
     "text": [
      "Experiment 1\n",
      "rmse xbar 0.37296368538830343\n",
      "rmse median 0.45284554632180635\n"
     ]
    }
   ],
   "source": [
    "import random\n",
    "\n",
    "def Estimate1(n=7, iters=1000):\n",
    "    \"\"\"Evaluates RMSE of sample mean and median as estimators.\n",
    "\n",
    "    n: sample size\n",
    "    iters: number of iterations\n",
    "    \"\"\"\n",
    "    mu = 0\n",
    "    sigma = 1\n",
    "\n",
    "    means = []\n",
    "    medians = []\n",
    "    for _ in range(iters):\n",
    "        xs = [random.gauss(mu, sigma) for _ in range(n)]\n",
    "        xbar = np.mean(xs)\n",
    "        median = np.median(xs)\n",
    "        means.append(xbar)\n",
    "        medians.append(median)\n",
    "\n",
    "    print('Experiment 1')\n",
    "    print('rmse xbar', RMSE(means, mu))\n",
    "    print('rmse median', RMSE(medians, mu))\n",
    "    \n",
    "Estimate1()"
   ]
  },
  {
   "cell_type": "code",
   "execution_count": null,
   "metadata": {},
   "outputs": [],
   "source": []
  },
  {
   "cell_type": "markdown",
   "metadata": {},
   "source": [
    "Using $\\bar{x}$ to estimate the mean works a little better than using the median; in the long run, it minimizes RMSE.  But using the median is more robust in the presence of outliers or large errors.\n",
    "\n",
    "\n",
    "## Estimating variance\n",
    "\n",
    "The obvious way to estimate the variance of a population is to compute the variance of the sample, $S^2$, but that turns out to be a biased estimator; that is, in the long run, the average error doesn't converge to 0.\n",
    "\n",
    "The following function computes the mean error for a collection of estimates."
   ]
  },
  {
   "cell_type": "code",
   "execution_count": 4,
   "metadata": {},
   "outputs": [],
   "source": [
    "def MeanError(estimates, actual):\n",
    "    \"\"\"Computes the mean error of a sequence of estimates.\n",
    "\n",
    "    estimate: sequence of numbers\n",
    "    actual: actual value\n",
    "\n",
    "    returns: float mean error\n",
    "    \"\"\"\n",
    "    errors = [estimate-actual for estimate in estimates]\n",
    "    return np.mean(errors)"
   ]
  },
  {
   "cell_type": "markdown",
   "metadata": {},
   "source": [
    "The following function simulates experiments where we try to estimate the variance of a population based on a sample with size `n=7`.  We run `iters=1000` experiments and two estimates for each sample, $S^2$ and $S_{n-1}^2$."
   ]
  },
  {
   "cell_type": "code",
   "execution_count": 5,
   "metadata": {},
   "outputs": [
    {
     "name": "stdout",
     "output_type": "stream",
     "text": [
      "mean error biased -0.1485888550522994\n",
      "mean error unbiased -0.006686997561015984\n"
     ]
    }
   ],
   "source": [
    "def Estimate2(n=7, iters=1000):\n",
    "    mu = 0\n",
    "    sigma = 1\n",
    "\n",
    "    estimates1 = []\n",
    "    estimates2 = []\n",
    "    for _ in range(iters):\n",
    "        xs = [random.gauss(mu, sigma) for i in range(n)]\n",
    "        biased = np.var(xs)\n",
    "        unbiased = np.var(xs, ddof=1)\n",
    "        estimates1.append(biased)\n",
    "        estimates2.append(unbiased)\n",
    "\n",
    "    print('mean error biased', MeanError(estimates1, sigma**2))\n",
    "    print('mean error unbiased', MeanError(estimates2, sigma**2))\n",
    "    \n",
    "Estimate2()"
   ]
  },
  {
   "cell_type": "markdown",
   "metadata": {},
   "source": [
    "The mean error for $S^2$ is non-zero, which suggests that it is biased.  The mean error for $S_{n-1}^2$ is close to zero, and gets even smaller if we increase `iters`."
   ]
  },
  {
   "cell_type": "markdown",
   "metadata": {},
   "source": [
    "## The sampling distribution\n",
    "\n",
    "The following function simulates experiments where we estimate the mean of a population using $\\bar{x}$, and returns a list of estimates, one from each experiment."
   ]
  },
  {
   "cell_type": "code",
   "execution_count": 6,
   "metadata": {},
   "outputs": [],
   "source": [
    "def SimulateSample(mu=90, sigma=7.5, n=9, iters=1000):\n",
    "    xbars = []\n",
    "    for j in range(iters):\n",
    "        xs = np.random.normal(mu, sigma, n)\n",
    "        xbar = np.mean(xs)\n",
    "        xbars.append(xbar)\n",
    "    return xbars\n",
    "\n",
    "xbars = SimulateSample()"
   ]
  },
  {
   "cell_type": "markdown",
   "metadata": {},
   "source": [
    "Here's the \"sampling distribution of the mean\" which shows how much we should expect $\\bar{x}$ to vary from one experiment to the next."
   ]
  },
  {
   "cell_type": "code",
   "execution_count": 7,
   "metadata": {},
   "outputs": [
    {
     "name": "stderr",
     "output_type": "stream",
     "text": [
      "No handles with labels found to put in legend.\n"
     ]
    },
    {
     "data": {
      "image/png": "[encoded data removed]",
      "text/plain": [
       "<Figure size 432x288 with 1 Axes>"
      ]
     },
     "metadata": {},
     "output_type": "display_data"
    }
   ],
   "source": [
    "cdf = thinkstats2.Cdf(xbars)\n",
    "thinkplot.Cdf(cdf)\n",
    "thinkplot.Config(xlabel='Sample mean',\n",
    "                 ylabel='CDF')"
   ]
  },
  {
   "cell_type": "markdown",
   "metadata": {},
   "source": [
    "The mean of the sample means is close to the actual value of $\\mu$."
   ]
  },
  {
   "cell_type": "code",
   "execution_count": 8,
   "metadata": {},
   "outputs": [
    {
     "data": {
      "text/plain": [
       "89.84201175851206"
      ]
     },
     "execution_count": 8,
     "metadata": {},
     "output_type": "execute_result"
    }
   ],
   "source": [
    "np.mean(xbars)"
   ]
  },
  {
   "cell_type": "markdown",
   "metadata": {},
   "source": [
    "An interval that contains 90% of the values in the sampling disrtribution is called a 90% confidence interval."
   ]
  },
  {
   "cell_type": "code",
   "execution_count": 9,
   "metadata": {},
   "outputs": [
    {
     "data": {
      "text/plain": [
       "(85.53597307865131, 93.94394758535867)"
      ]
     },
     "execution_count": 9,
     "metadata": {},
     "output_type": "execute_result"
    }
   ],
   "source": [
    "ci = cdf.Percentile(5), cdf.Percentile(95)\n",
    "ci"
   ]
  },
  {
   "cell_type": "markdown",
   "metadata": {},
   "source": [
    "And the RMSE of the sample means is called the standard error."
   ]
  },
  {
   "cell_type": "code",
   "execution_count": 10,
   "metadata": {},
   "outputs": [
    {
     "data": {
      "text/plain": [
       "2.5421196519482234"
      ]
     },
     "execution_count": 10,
     "metadata": {},
     "output_type": "execute_result"
    }
   ],
   "source": [
    "stderr = RMSE(xbars, 90)\n",
    "stderr"
   ]
  },
  {
   "cell_type": "markdown",
   "metadata": {},
   "source": [
    "Confidence intervals and standard errors quantify the variability in the estimate due to random sampling."
   ]
  },
  {
   "cell_type": "markdown",
   "metadata": {},
   "source": [
    "## Estimating rates\n",
    "\n",
    "The following function simulates experiments where we try to estimate the mean of an exponential distribution using the mean and median of a sample. "
   ]
  },
  {
   "cell_type": "code",
   "execution_count": 11,
   "metadata": {},
   "outputs": [
    {
     "name": "stdout",
     "output_type": "stream",
     "text": [
      "rmse L 1.1088465917132826\n",
      "rmse Lm 2.001146602255649\n",
      "mean error L 0.37280755452207975\n",
      "mean error Lm 0.5575015330226026\n"
     ]
    }
   ],
   "source": [
    "def Estimate3(n=7, iters=1000):\n",
    "    lam = 2\n",
    "\n",
    "    means = []\n",
    "    medians = []\n",
    "    for _ in range(iters):\n",
    "        xs = np.random.exponential(1.0/lam, n)\n",
    "        L = 1 / np.mean(xs)\n",
    "        Lm = np.log(2) / thinkstats2.Median(xs)\n",
    "        means.append(L)\n",
    "        medians.append(Lm)\n",
    "\n",
    "    print('rmse L', RMSE(means, lam))\n",
    "    print('rmse Lm', RMSE(medians, lam))\n",
    "    print('mean error L', MeanError(means, lam))\n",
    "    print('mean error Lm', MeanError(medians, lam))\n",
    "    \n",
    "    \n",
    "    \n",
    "Estimate3()"
   ]
  },
  {
   "cell_type": "markdown",
   "metadata": {},
   "source": [
    "The RMSE is smaller for the sample mean than for the sample median.\n",
    "\n",
    "But neither estimator is unbiased."
   ]
  },
  {
   "cell_type": "markdown",
   "metadata": {},
   "source": [
    "## Exercises"
   ]
  },
  {
   "cell_type": "markdown",
   "metadata": {},
   "source": [
    "**Exercise:**  In this chapter we used $\\bar{x}$ and median to estimate µ, and found that $\\bar{x}$ yields lower MSE. Also, we used $S^2$ and $S_{n-1}^2$ to estimate σ, and found that $S^2$ is biased and $S_{n-1}^2$ unbiased.\n",
    "Run similar experiments to see if $\\bar{x}$ and median are biased estimates of µ. Also check whether $S^2$ or $S_{n-1}^2$ yields a lower MSE."
   ]
  },
  {
   "cell_type": "markdown",
   "metadata": {},
   "source": [
    "*I take this to mean, calculate the **(A)**`MeanError` of $\\bar{x}$ and median-based estimate of $\\mu$, and **(B)**`MSE` of $S^2$ and $S^2_{n-1}$*"
   ]
  },
  {
   "cell_type": "code",
   "execution_count": 12,
   "metadata": {},
   "outputs": [
    {
     "name": "stdout",
     "output_type": "stream",
     "text": [
      "Experiment 1\n",
      "MeanError xbar -0.001001260279758093\n",
      "MeanError median -0.001037880010908367\n",
      "Experiment 2\n",
      "MSE biased 0.5155728699368899\n",
      "MSE unbiased 0.5783605482762881\n"
     ]
    }
   ],
   "source": [
    "# A\n",
    "\n",
    "def MeanError(estimates, actual):\n",
    "    \"\"\"Computes the mean error of a sequence of estimates.\n",
    "\n",
    "    estimate: sequence of numbers\n",
    "    actual: actual value\n",
    "\n",
    "    returns: float mean error\n",
    "    \"\"\"\n",
    "    errors = [estimate-actual for estimate in estimates]\n",
    "    return np.mean(errors)\n",
    "\n",
    "def MSE(estimates, actual):\n",
    "    \"\"\"Computes the root mean squared error of a sequence of estimates.\n",
    "\n",
    "    estimate: sequence of numbers\n",
    "    actual: actual value\n",
    "\n",
    "    returns: float RMSE\n",
    "    \"\"\"\n",
    "    e2 = [(estimate-actual)**2 for estimate in estimates]\n",
    "    mse = np.mean(e2)\n",
    "    return mse\n",
    "\n",
    "###\n",
    "\n",
    "n=7\n",
    "m=100000\n",
    "\n",
    "mu = 0\n",
    "sigma = 1\n",
    "\n",
    "means = []\n",
    "medians = []\n",
    "for _ in range(m):\n",
    "    xs = [random.gauss(mu, sigma) for _ in range(n)]\n",
    "    xbar = np.mean(xs)\n",
    "    median = np.median(xs)\n",
    "    means.append(xbar)\n",
    "    medians.append(median)\n",
    "    \n",
    "print('Experiment 1')\n",
    "print('MeanError xbar', MeanError(means, mu))\n",
    "print('MeanError median', MeanError(medians, mu))\n",
    "\n",
    "estimates1 = []\n",
    "estimates2 = []\n",
    "for _ in range(m):\n",
    "    xs = [random.gauss(mu, sigma) for _ in range(n)]\n",
    "    biased = np.var(xs)\n",
    "    unbiased = np.var(xs, ddof=1)\n",
    "    estimates1.append(biased)\n",
    "    estimates2.append(unbiased)\n",
    "\n",
    "print('Experiment 2')\n",
    "print('MSE biased', RMSE(estimates1, sigma**2))\n",
    "print('MSE unbiased', RMSE(estimates2, sigma**2))\n"
   ]
  },
  {
   "cell_type": "markdown",
   "metadata": {},
   "source": [
    "**(A)** MeanError of $\\bar{x}$ is quite comparable to that of median-based calculation. The error values are quite low (and get lower with increasing $m$, with a rather small sample size (7), so perhaps the estimators are unbiased?\n",
    "\n",
    "**(B)** $S^2_{n-1}$ produces a consisntently (with increasing $m$) lower (R)MSE than $S^2$. "
   ]
  },
  {
   "cell_type": "markdown",
   "metadata": {},
   "source": [
    "## **Exercise:** \n",
    "Suppose you draw a sample with size n=10 from an exponential distribution with λ=2. Simulate this experiment 1000 times and plot the sampling distribution of the estimate L. Compute the standard error of the estimate and the 90% confidence interval.\n",
    "\n",
    "Repeat the experiment with a few different values of `n` and make a plot of standard error versus `n`.\n",
    "\n"
   ]
  },
  {
   "cell_type": "code",
   "execution_count": 37,
   "metadata": {},
   "outputs": [
    {
     "name": "stderr",
     "output_type": "stream",
     "text": [
      "No handles with labels found to put in legend.\n"
     ]
    },
    {
     "name": "stdout",
     "output_type": "stream",
     "text": [
      "rmse L 0.8116682687972935\n",
      "mean error L 0.20922526379561374\n",
      "(1.2602305466329098, 3.731222282749347)\n"
     ]
    },
    {
     "data": {
      "image/png": "[encoded data removed]",
      "text/plain": [
       "<Figure size 432x288 with 1 Axes>"
      ]
     },
     "metadata": {},
     "output_type": "display_data"
    }
   ],
   "source": [
    "n = 10\n",
    "m = 1000\n",
    "lam = 2\n",
    "\n",
    "def exp5(n=10,m=1000):\n",
    "    means = []\n",
    "    for _ in range(m):\n",
    "        xs = np.random.exponential(1.0/lam,n)\n",
    "        L = 1 / np.mean(xs)\n",
    "        means.append(L)\n",
    "\n",
    "    print('rmse L', RMSE(means, lam))\n",
    "    print('mean error L', MeanError(means, lam))\n",
    "    \n",
    "    return means, RMSE(means, lam)\n",
    "\n",
    "means, rmse = exp5()\n",
    "\n",
    "cdf = thinkstats2.MakeCdfFromList(means)\n",
    "ci = cdf.Percentile(5), cdf.Percentile(95)\n",
    "\n",
    "def VertLine(x, y=1):\n",
    "    thinkplot.Plot([x, x], [0, y], color='0.8', linewidth=3)\n",
    "\n",
    "VertLine(ci[0])\n",
    "VertLine(ci[1])\n",
    "    \n",
    "thinkplot.Cdf(cdf)\n",
    "thinkplot.Config(xlabel='Sample mean',\n",
    "                 ylabel='CDF')\n",
    "\n",
    "print(ci)"
   ]
  },
  {
   "cell_type": "markdown",
   "metadata": {
    "collapsed": true
   },
   "source": [
    "Standard error (i.e., RMSE) is 0.76.\n",
    "\n",
    "The 90% confidence interval range froms 1.27 to 3.50 (5th percentile to 95th percentile). "
   ]
  },
  {
   "cell_type": "code",
   "execution_count": 41,
   "metadata": {},
   "outputs": [
    {
     "name": "stdout",
     "output_type": "stream",
     "text": [
      "rmse L 1.4709274183236065\n",
      "mean error L 0.5106492531976266\n",
      "rmse L 1.3020150601183045\n",
      "mean error L 0.40152052548240635\n",
      "rmse L 1.162306369146231\n",
      "mean error L 0.3889669478436941\n",
      "rmse L 0.867405676863591\n",
      "mean error L 0.23746301235582637\n",
      "rmse L 0.8447353309851918\n",
      "mean error L 0.24875620145622032\n",
      "rmse L 0.7995182710250883\n",
      "mean error L 0.23719943000977697\n",
      "rmse L 0.7890595024572056\n",
      "mean error L 0.2341609956593368\n",
      "rmse L 0.7225761851185828\n",
      "mean error L 0.18536436401560552\n",
      "rmse L 0.6766692606674178\n",
      "mean error L 0.18370901134987203\n",
      "rmse L 0.6311878595434856\n",
      "mean error L 0.1403851314119567\n",
      "rmse L 0.5950920092561325\n",
      "mean error L 0.12826120246654296\n",
      "rmse L 0.6097107913332542\n",
      "mean error L 0.15519463202796643\n",
      "rmse L 0.5770669539997705\n",
      "mean error L 0.1230345421113935\n",
      "rmse L 0.5581696250795831\n",
      "mean error L 0.11440194098832693\n",
      "rmse L 0.5143057044469919\n",
      "mean error L 0.11549899443981149\n",
      "rmse L 0.5180597622060938\n",
      "mean error L 0.10488904474375302\n",
      "rmse L 0.492844934318689\n",
      "mean error L 0.11490669289525908\n",
      "rmse L 0.4602202241273087\n",
      "mean error L 0.08252522277915898\n",
      "rmse L 0.47055529966285564\n",
      "mean error L 0.09372770381836754\n",
      "rmse L 0.4546594328262917\n",
      "mean error L 0.08240510172871691\n",
      "rmse L 0.4439816861118104\n",
      "mean error L 0.10840441363861374\n",
      "rmse L 0.4300435428487188\n",
      "mean error L 0.08911071552175574\n",
      "rmse L 0.43195926724492884\n",
      "mean error L 0.08391589831322664\n",
      "rmse L 0.3980903068353687\n",
      "mean error L 0.06549721682940478\n",
      "rmse L 0.4173248100432383\n",
      "mean error L 0.07107686597275477\n",
      "rmse L 0.41279817288204557\n",
      "mean error L 0.07953785642807312\n",
      "rmse L 0.39238100177395924\n",
      "mean error L 0.07787456491074789\n",
      "rmse L 0.39494782662269406\n",
      "mean error L 0.08955044921583162\n",
      "rmse L 0.37466029738708195\n",
      "mean error L 0.06916274491751041\n",
      "rmse L 0.3637150730256845\n",
      "mean error L 0.0554730171603215\n",
      "rmse L 0.38218891834725344\n",
      "mean error L 0.07570242839688256\n",
      "rmse L 0.34689934511870835\n",
      "mean error L 0.057153079376383024\n",
      "rmse L 0.35843396407253975\n",
      "mean error L 0.07302862764633887\n",
      "rmse L 0.35586157859161494\n",
      "mean error L 0.0653944903930079\n",
      "rmse L 0.3336505743540946\n",
      "mean error L 0.045093596247688744\n",
      "rmse L 0.33082725256035295\n",
      "mean error L 0.047118559115295\n",
      "rmse L 0.33352656719181933\n",
      "mean error L 0.05306989764651567\n",
      "rmse L 0.33520798774662025\n",
      "mean error L 0.0572665750531677\n",
      "rmse L 0.3277595945072145\n",
      "mean error L 0.050434704626468124\n",
      "rmse L 0.3114262803807332\n",
      "mean error L 0.049728937397378575\n",
      "rmse L 0.3063114145417684\n",
      "mean error L 0.018729243107937325\n",
      "rmse L 0.3254594916626581\n",
      "mean error L 0.050202091565600314\n",
      "rmse L 0.30990334363479904\n",
      "mean error L 0.046145365832813735\n",
      "rmse L 0.30108087493239827\n",
      "mean error L 0.037328699058452146\n",
      "rmse L 0.29459676948215086\n",
      "mean error L 0.041311123875683545\n",
      "rmse L 0.29523578545840223\n",
      "mean error L 0.037934310769685654\n",
      "rmse L 0.2903195382732273\n",
      "mean error L 0.04822239972782532\n",
      "rmse L 0.2847325107906709\n",
      "mean error L 0.03456262208833204\n",
      "rmse L 0.28877725488136347\n",
      "mean error L 0.031197594504650105\n",
      "rmse L 0.28961245319959134\n",
      "mean error L 0.04727653318545418\n",
      "rmse L 0.28067391995920205\n",
      "mean error L 0.03870804819145807\n",
      "rmse L 0.2843938513883839\n",
      "mean error L 0.04272225875683022\n",
      "rmse L 0.27249907330183093\n",
      "mean error L 0.029187703602807494\n",
      "rmse L 0.27051422783278095\n",
      "mean error L 0.03112615279286607\n",
      "rmse L 0.27206029836132767\n",
      "mean error L 0.04321455079037932\n",
      "rmse L 0.28167375304218867\n",
      "mean error L 0.050336485735166935\n",
      "rmse L 0.26638677294379\n",
      "mean error L 0.02898456793539722\n",
      "rmse L 0.2545887241029698\n",
      "mean error L 0.025998404970411525\n",
      "rmse L 0.25387869840019656\n",
      "mean error L 0.030206329076733856\n",
      "rmse L 0.2691887592147528\n",
      "mean error L 0.03468594378164819\n",
      "rmse L 0.2504720881802784\n",
      "mean error L 0.026298658143337875\n",
      "rmse L 0.2466658549136844\n",
      "mean error L 0.012098450059789347\n",
      "rmse L 0.252353195223823\n",
      "mean error L 0.03563662131526665\n",
      "rmse L 0.2559006419867779\n",
      "mean error L 0.02720088703870666\n",
      "rmse L 0.2510696576496033\n",
      "mean error L 0.042397392385517714\n",
      "rmse L 0.24285117003454484\n",
      "mean error L 0.038047146566690435\n",
      "rmse L 0.24803156393152961\n",
      "mean error L 0.027459161940276276\n",
      "rmse L 0.24143614946222186\n",
      "mean error L 0.03746654816912215\n",
      "rmse L 0.24280330879431233\n",
      "mean error L 0.039589012098099514\n",
      "rmse L 0.24844111072538738\n",
      "mean error L 0.027379315313972745\n",
      "rmse L 0.24561385194169136\n",
      "mean error L 0.03527620416540701\n",
      "rmse L 0.23856876973498006\n",
      "mean error L 0.030195715752211617\n",
      "rmse L 0.23186589444966774\n",
      "mean error L 0.029729126642661002\n",
      "rmse L 0.23330702880719414\n",
      "mean error L 0.03448764354917878\n",
      "rmse L 0.22751926307308706\n",
      "mean error L 0.02429877134025665\n",
      "rmse L 0.2316947102598372\n",
      "mean error L 0.031005882780408802\n",
      "rmse L 0.2213557707153692\n",
      "mean error L 0.026957691293605264\n",
      "rmse L 0.23025642683211067\n",
      "mean error L 0.02441802433165217\n",
      "rmse L 0.2289429972803191\n",
      "mean error L 0.03272544906786986\n",
      "rmse L 0.2272924236659111\n",
      "mean error L 0.020000630803827434\n",
      "rmse L 0.22533513562635596\n",
      "mean error L 0.013704418334529829\n",
      "rmse L 0.23216681289177696\n",
      "mean error L 0.02949657807014216\n",
      "rmse L 0.2160090916763914\n",
      "mean error L 0.018899162759240504\n",
      "rmse L 0.21585722517815192\n",
      "mean error L 0.02453393100294426\n",
      "rmse L 0.21557089446792235\n",
      "mean error L 0.01257081516354569\n",
      "rmse L 0.22024429165209353\n",
      "mean error L 0.01814922770731152\n",
      "rmse L 0.21345948706935797\n",
      "mean error L 0.033532293731695466\n",
      "rmse L 0.20958750105970464\n",
      "mean error L 0.01519772376748152\n",
      "rmse L 0.20314013920204013\n",
      "mean error L 0.015631683698297292\n",
      "rmse L 0.20853575193772572\n",
      "mean error L 0.028058216299480847\n",
      "rmse L 0.2103547724865483\n",
      "mean error L 0.02282252699645084\n",
      "rmse L 0.20840439817478096\n",
      "mean error L 0.02067168833533387\n",
      "rmse L 0.20713312820485386\n",
      "mean error L 0.007402930353722974\n",
      "rmse L 0.1981667373334228\n",
      "mean error L 0.011437347485507812\n",
      "rmse L 0.2020663737004079\n",
      "mean error L 0.026037753851188592\n"
     ]
    },
    {
     "data": {
      "text/html": [
       "\n",
       "    <div class=\"bk-root\">\n",
       "        <a href=\"https://bokeh.pydata.org\" target=\"_blank\" class=\"bk-logo bk-logo-small bk-logo-notebook\"></a>\n",
       "        <span id=\"a2f5b0ad-2aad-4424-ae8c-979f50457d17\">Loading BokehJS ...</span>\n",
       "    </div>"
      ]
     },
     "metadata": {},
     "output_type": "display_data"
    },
    {
     "data": {
      "application/javascript": [
       "\n",
       "(function(root) {\n",
       "  function now() {\n",
       "    return new Date();\n",
       "  }\n",
       "\n",
       "  var force = true;\n",
       "\n",
       "  if (typeof (root._bokeh_onload_callbacks) === \"undefined\" || force === true) {\n",
       "    root._bokeh_onload_callbacks = [];\n",
       "    root._bokeh_is_loading = undefined;\n",
       "  }\n",
       "\n",
       "  var JS_MIME_TYPE = 'application/javascript';\n",
       "  var HTML_MIME_TYPE = 'text/html';\n",
       "  var EXEC_MIME_TYPE = 'application/vnd.bokehjs_exec.v0+json';\n",
       "  var CLASS_NAME = 'output_bokeh rendered_html';\n",
       "\n",
       "  /**\n",
       "   * Render data to the DOM node\n",
       "   */\n",
       "  function render(props, node) {\n",
       "    var script = document.createElement(\"script\");\n",
       "    node.appendChild(script);\n",
       "  }\n",
       "\n",
       "  /**\n",
       "   * Handle when an output is cleared or removed\n",
       "   */\n",
       "  function handleClearOutput(event, handle) {\n",
       "    var cell = handle.cell;\n",
       "\n",
       "    var id = cell.output_area._bokeh_element_id;\n",
       "    var server_id = cell.output_area._bokeh_server_id;\n",
       "    // Clean up Bokeh references\n",
       "    if (id !== undefined) {\n",
       "      Bokeh.index[id].model.document.clear();\n",
       "      delete Bokeh.index[id];\n",
       "    }\n",
       "\n",
       "    if (server_id !== undefined) {\n",
       "      // Clean up Bokeh references\n",
       "      var cmd = \"from bokeh.io.state import curstate; print(curstate().uuid_to_server['\" + server_id + \"'].get_sessions()[0].document.roots[0]._id)\";\n",
       "      cell.notebook.kernel.execute(cmd, {\n",
       "        iopub: {\n",
       "          output: function(msg) {\n",
       "            var element_id = msg.content.text.trim();\n",
       "            Bokeh.index[element_id].model.document.clear();\n",
       "            delete Bokeh.index[element_id];\n",
       "          }\n",
       "        }\n",
       "      });\n",
       "      // Destroy server and session\n",
       "      var cmd = \"import bokeh.io.notebook as ion; ion.destroy_server('\" + server_id + \"')\";\n",
       "      cell.notebook.kernel.execute(cmd);\n",
       "    }\n",
       "  }\n",
       "\n",
       "  /**\n",
       "   * Handle when a new output is added\n",
       "   */\n",
       "  function handleAddOutput(event, handle) {\n",
       "    var output_area = handle.output_area;\n",
       "    var output = handle.output;\n",
       "\n",
       "    // limit handleAddOutput to display_data with EXEC_MIME_TYPE content only\n",
       "    if ((output.output_type != \"display_data\") || (!output.data.hasOwnProperty(EXEC_MIME_TYPE))) {\n",
       "      return\n",
       "    }\n",
       "\n",
       "    var toinsert = output_area.element.find(\".\" + CLASS_NAME.split(' ')[0]);\n",
       "\n",
       "    if (output.metadata[EXEC_MIME_TYPE][\"id\"] !== undefined) {\n",
       "      toinsert[toinsert.length - 1].firstChild.textContent = output.data[JS_MIME_TYPE];\n",
       "      // store reference to embed id on output_area\n",
       "      output_area._bokeh_element_id = output.metadata[EXEC_MIME_TYPE][\"id\"];\n",
       "    }\n",
       "    if (output.metadata[EXEC_MIME_TYPE][\"server_id\"] !== undefined) {\n",
       "      var bk_div = document.createElement(\"div\");\n",
       "      bk_div.innerHTML = output.data[HTML_MIME_TYPE];\n",
       "      var script_attrs = bk_div.children[0].attributes;\n",
       "      for (var i = 0; i < script_attrs.length; i++) {\n",
       "        toinsert[toinsert.length - 1].firstChild.setAttribute(script_attrs[i].name, script_attrs[i].value);\n",
       "      }\n",
       "      // store reference to server id on output_area\n",
       "      output_area._bokeh_server_id = output.metadata[EXEC_MIME_TYPE][\"server_id\"];\n",
       "    }\n",
       "  }\n",
       "\n",
       "  function register_renderer(events, OutputArea) {\n",
       "\n",
       "    function append_mime(data, metadata, element) {\n",
       "      // create a DOM node to render to\n",
       "      var toinsert = this.create_output_subarea(\n",
       "        metadata,\n",
       "        CLASS_NAME,\n",
       "        EXEC_MIME_TYPE\n",
       "      );\n",
       "      this.keyboard_manager.register_events(toinsert);\n",
       "      // Render to node\n",
       "      var props = {data: data, metadata: metadata[EXEC_MIME_TYPE]};\n",
       "      render(props, toinsert[toinsert.length - 1]);\n",
       "      element.append(toinsert);\n",
       "      return toinsert\n",
       "    }\n",
       "\n",
       "    /* Handle when an output is cleared or removed */\n",
       "    events.on('clear_output.CodeCell', handleClearOutput);\n",
       "    events.on('delete.Cell', handleClearOutput);\n",
       "\n",
       "    /* Handle when a new output is added */\n",
       "    events.on('output_added.OutputArea', handleAddOutput);\n",
       "\n",
       "    /**\n",
       "     * Register the mime type and append_mime function with output_area\n",
       "     */\n",
       "    OutputArea.prototype.register_mime_type(EXEC_MIME_TYPE, append_mime, {\n",
       "      /* Is output safe? */\n",
       "      safe: true,\n",
       "      /* Index of renderer in `output_area.display_order` */\n",
       "      index: 0\n",
       "    });\n",
       "  }\n",
       "\n",
       "  // register the mime type if in Jupyter Notebook environment and previously unregistered\n",
       "  if (root.Jupyter !== undefined) {\n",
       "    var events = require('base/js/events');\n",
       "    var OutputArea = require('notebook/js/outputarea').OutputArea;\n",
       "\n",
       "    if (OutputArea.prototype.mime_types().indexOf(EXEC_MIME_TYPE) == -1) {\n",
       "      register_renderer(events, OutputArea);\n",
       "    }\n",
       "  }\n",
       "\n",
       "  \n",
       "  if (typeof (root._bokeh_timeout) === \"undefined\" || force === true) {\n",
       "    root._bokeh_timeout = Date.now() + 5000;\n",
       "    root._bokeh_failed_load = false;\n",
       "  }\n",
       "\n",
       "  var NB_LOAD_WARNING = {'data': {'text/html':\n",
       "     \"<div style='background-color: #fdd'>\\n\"+\n",
       "     \"<p>\\n\"+\n",
       "     \"BokehJS does not appear to have successfully loaded. If loading BokehJS from CDN, this \\n\"+\n",
       "     \"may be due to a slow or bad network connection. Possible fixes:\\n\"+\n",
       "     \"</p>\\n\"+\n",
       "     \"<ul>\\n\"+\n",
       "     \"<li>re-rerun `output_notebook()` to attempt to load from CDN again, or</li>\\n\"+\n",
       "     \"<li>use INLINE resources instead, as so:</li>\\n\"+\n",
       "     \"</ul>\\n\"+\n",
       "     \"<code>\\n\"+\n",
       "     \"from bokeh.resources import INLINE\\n\"+\n",
       "     \"output_notebook(resources=INLINE)\\n\"+\n",
       "     \"</code>\\n\"+\n",
       "     \"</div>\"}};\n",
       "\n",
       "  function display_loaded() {\n",
       "    var el = document.getElementById(\"a2f5b0ad-2aad-4424-ae8c-979f50457d17\");\n",
       "    if (el != null) {\n",
       "      el.textContent = \"BokehJS is loading...\";\n",
       "    }\n",
       "    if (root.Bokeh !== undefined) {\n",
       "      if (el != null) {\n",
       "        el.textContent = \"BokehJS \" + root.Bokeh.version + \" successfully loaded.\";\n",
       "      }\n",
       "    } else if (Date.now() < root._bokeh_timeout) {\n",
       "      setTimeout(display_loaded, 100)\n",
       "    }\n",
       "  }\n",
       "\n",
       "\n",
       "  function run_callbacks() {\n",
       "    try {\n",
       "      root._bokeh_onload_callbacks.forEach(function(callback) { callback() });\n",
       "    }\n",
       "    finally {\n",
       "      delete root._bokeh_onload_callbacks\n",
       "    }\n",
       "    console.info(\"Bokeh: all callbacks have finished\");\n",
       "  }\n",
       "\n",
       "  function load_libs(js_urls, callback) {\n",
       "    root._bokeh_onload_callbacks.push(callback);\n",
       "    if (root._bokeh_is_loading > 0) {\n",
       "      console.log(\"Bokeh: BokehJS is being loaded, scheduling callback at\", now());\n",
       "      return null;\n",
       "    }\n",
       "    if (js_urls == null || js_urls.length === 0) {\n",
       "      run_callbacks();\n",
       "      return null;\n",
       "    }\n",
       "    console.log(\"Bokeh: BokehJS not loaded, scheduling load and callback at\", now());\n",
       "    root._bokeh_is_loading = js_urls.length;\n",
       "    for (var i = 0; i < js_urls.length; i++) {\n",
       "      var url = js_urls[i];\n",
       "      var s = document.createElement('script');\n",
       "      s.src = url;\n",
       "      s.async = false;\n",
       "      s.onreadystatechange = s.onload = function() {\n",
       "        root._bokeh_is_loading--;\n",
       "        if (root._bokeh_is_loading === 0) {\n",
       "          console.log(\"Bokeh: all BokehJS libraries loaded\");\n",
       "          run_callbacks()\n",
       "        }\n",
       "      };\n",
       "      s.onerror = function() {\n",
       "        console.warn(\"failed to load library \" + url);\n",
       "      };\n",
       "      console.log(\"Bokeh: injecting script tag for BokehJS library: \", url);\n",
       "      document.getElementsByTagName(\"head\")[0].appendChild(s);\n",
       "    }\n",
       "  };var element = document.getElementById(\"a2f5b0ad-2aad-4424-ae8c-979f50457d17\");\n",
       "  if (element == null) {\n",
       "    console.log(\"Bokeh: ERROR: autoload.js configured with elementid 'a2f5b0ad-2aad-4424-ae8c-979f50457d17' but no matching script tag was found. \")\n",
       "    return false;\n",
       "  }\n",
       "\n",
       "  var js_urls = [\"https://cdn.pydata.org/bokeh/release/bokeh-0.12.16.min.js\", \"https://cdn.pydata.org/bokeh/release/bokeh-widgets-0.12.16.min.js\", \"https://cdn.pydata.org/bokeh/release/bokeh-tables-0.12.16.min.js\", \"https://cdn.pydata.org/bokeh/release/bokeh-gl-0.12.16.min.js\"];\n",
       "\n",
       "  var inline_js = [\n",
       "    function(Bokeh) {\n",
       "      Bokeh.set_log_level(\"info\");\n",
       "    },\n",
       "    \n",
       "    function(Bokeh) {\n",
       "      \n",
       "    },\n",
       "    function(Bokeh) {\n",
       "      console.log(\"Bokeh: injecting CSS: https://cdn.pydata.org/bokeh/release/bokeh-0.12.16.min.css\");\n",
       "      Bokeh.embed.inject_css(\"https://cdn.pydata.org/bokeh/release/bokeh-0.12.16.min.css\");\n",
       "      console.log(\"Bokeh: injecting CSS: https://cdn.pydata.org/bokeh/release/bokeh-widgets-0.12.16.min.css\");\n",
       "      Bokeh.embed.inject_css(\"https://cdn.pydata.org/bokeh/release/bokeh-widgets-0.12.16.min.css\");\n",
       "      console.log(\"Bokeh: injecting CSS: https://cdn.pydata.org/bokeh/release/bokeh-tables-0.12.16.min.css\");\n",
       "      Bokeh.embed.inject_css(\"https://cdn.pydata.org/bokeh/release/bokeh-tables-0.12.16.min.css\");\n",
       "    }\n",
       "  ];\n",
       "\n",
       "  function run_inline_js() {\n",
       "    \n",
       "    if ((root.Bokeh !== undefined) || (force === true)) {\n",
       "      for (var i = 0; i < inline_js.length; i++) {\n",
       "        inline_js[i].call(root, root.Bokeh);\n",
       "      }if (force === true) {\n",
       "        display_loaded();\n",
       "      }} else if (Date.now() < root._bokeh_timeout) {\n",
       "      setTimeout(run_inline_js, 100);\n",
       "    } else if (!root._bokeh_failed_load) {\n",
       "      console.log(\"Bokeh: BokehJS failed to load within specified timeout.\");\n",
       "      root._bokeh_failed_load = true;\n",
       "    } else if (force !== true) {\n",
       "      var cell = $(document.getElementById(\"a2f5b0ad-2aad-4424-ae8c-979f50457d17\")).parents('.cell').data().cell;\n",
       "      cell.output_area.append_execute_result(NB_LOAD_WARNING)\n",
       "    }\n",
       "\n",
       "  }\n",
       "\n",
       "  if (root._bokeh_is_loading === 0) {\n",
       "    console.log(\"Bokeh: BokehJS loaded, going straight to plotting\");\n",
       "    run_inline_js();\n",
       "  } else {\n",
       "    load_libs(js_urls, function() {\n",
       "      console.log(\"Bokeh: BokehJS plotting callback run at\", now());\n",
       "      run_inline_js();\n",
       "    });\n",
       "  }\n",
       "}(window));"
      ],
      "application/vnd.bokehjs_load.v0+json": "\n(function(root) {\n  function now() {\n    return new Date();\n  }\n\n  var force = true;\n\n  if (typeof (root._bokeh_onload_callbacks) === \"undefined\" || force === true) {\n    root._bokeh_onload_callbacks = [];\n    root._bokeh_is_loading = undefined;\n  }\n\n  \n\n  \n  if (typeof (root._bokeh_timeout) === \"undefined\" || force === true) {\n    root._bokeh_timeout = Date.now() + 5000;\n    root._bokeh_failed_load = false;\n  }\n\n  var NB_LOAD_WARNING = {'data': {'text/html':\n     \"<div style='background-color: #fdd'>\\n\"+\n     \"<p>\\n\"+\n     \"BokehJS does not appear to have successfully loaded. If loading BokehJS from CDN, this \\n\"+\n     \"may be due to a slow or bad network connection. Possible fixes:\\n\"+\n     \"</p>\\n\"+\n     \"<ul>\\n\"+\n     \"<li>re-rerun `output_notebook()` to attempt to load from CDN again, or</li>\\n\"+\n     \"<li>use INLINE resources instead, as so:</li>\\n\"+\n     \"</ul>\\n\"+\n     \"<code>\\n\"+\n     \"from bokeh.resources import INLINE\\n\"+\n     \"output_notebook(resources=INLINE)\\n\"+\n     \"</code>\\n\"+\n     \"</div>\"}};\n\n  function display_loaded() {\n    var el = document.getElementById(\"a2f5b0ad-2aad-4424-ae8c-979f50457d17\");\n    if (el != null) {\n      el.textContent = \"BokehJS is loading...\";\n    }\n    if (root.Bokeh !== undefined) {\n      if (el != null) {\n        el.textContent = \"BokehJS \" + root.Bokeh.version + \" successfully loaded.\";\n      }\n    } else if (Date.now() < root._bokeh_timeout) {\n      setTimeout(display_loaded, 100)\n    }\n  }\n\n\n  function run_callbacks() {\n    try {\n      root._bokeh_onload_callbacks.forEach(function(callback) { callback() });\n    }\n    finally {\n      delete root._bokeh_onload_callbacks\n    }\n    console.info(\"Bokeh: all callbacks have finished\");\n  }\n\n  function load_libs(js_urls, callback) {\n    root._bokeh_onload_callbacks.push(callback);\n    if (root._bokeh_is_loading > 0) {\n      console.log(\"Bokeh: BokehJS is being loaded, scheduling callback at\", now());\n      return null;\n    }\n    if (js_urls == null || js_urls.length === 0) {\n      run_callbacks();\n      return null;\n    }\n    console.log(\"Bokeh: BokehJS not loaded, scheduling load and callback at\", now());\n    root._bokeh_is_loading = js_urls.length;\n    for (var i = 0; i < js_urls.length; i++) {\n      var url = js_urls[i];\n      var s = document.createElement('script');\n      s.src = url;\n      s.async = false;\n      s.onreadystatechange = s.onload = function() {\n        root._bokeh_is_loading--;\n        if (root._bokeh_is_loading === 0) {\n          console.log(\"Bokeh: all BokehJS libraries loaded\");\n          run_callbacks()\n        }\n      };\n      s.onerror = function() {\n        console.warn(\"failed to load library \" + url);\n      };\n      console.log(\"Bokeh: injecting script tag for BokehJS library: \", url);\n      document.getElementsByTagName(\"head\")[0].appendChild(s);\n    }\n  };var element = document.getElementById(\"a2f5b0ad-2aad-4424-ae8c-979f50457d17\");\n  if (element == null) {\n    console.log(\"Bokeh: ERROR: autoload.js configured with elementid 'a2f5b0ad-2aad-4424-ae8c-979f50457d17' but no matching script tag was found. \")\n    return false;\n  }\n\n  var js_urls = [\"https://cdn.pydata.org/bokeh/release/bokeh-0.12.16.min.js\", \"https://cdn.pydata.org/bokeh/release/bokeh-widgets-0.12.16.min.js\", \"https://cdn.pydata.org/bokeh/release/bokeh-tables-0.12.16.min.js\", \"https://cdn.pydata.org/bokeh/release/bokeh-gl-0.12.16.min.js\"];\n\n  var inline_js = [\n    function(Bokeh) {\n      Bokeh.set_log_level(\"info\");\n    },\n    \n    function(Bokeh) {\n      \n    },\n    function(Bokeh) {\n      console.log(\"Bokeh: injecting CSS: https://cdn.pydata.org/bokeh/release/bokeh-0.12.16.min.css\");\n      Bokeh.embed.inject_css(\"https://cdn.pydata.org/bokeh/release/bokeh-0.12.16.min.css\");\n      console.log(\"Bokeh: injecting CSS: https://cdn.pydata.org/bokeh/release/bokeh-widgets-0.12.16.min.css\");\n      Bokeh.embed.inject_css(\"https://cdn.pydata.org/bokeh/release/bokeh-widgets-0.12.16.min.css\");\n      console.log(\"Bokeh: injecting CSS: https://cdn.pydata.org/bokeh/release/bokeh-tables-0.12.16.min.css\");\n      Bokeh.embed.inject_css(\"https://cdn.pydata.org/bokeh/release/bokeh-tables-0.12.16.min.css\");\n    }\n  ];\n\n  function run_inline_js() {\n    \n    if ((root.Bokeh !== undefined) || (force === true)) {\n      for (var i = 0; i < inline_js.length; i++) {\n        inline_js[i].call(root, root.Bokeh);\n      }if (force === true) {\n        display_loaded();\n      }} else if (Date.now() < root._bokeh_timeout) {\n      setTimeout(run_inline_js, 100);\n    } else if (!root._bokeh_failed_load) {\n      console.log(\"Bokeh: BokehJS failed to load within specified timeout.\");\n      root._bokeh_failed_load = true;\n    } else if (force !== true) {\n      var cell = $(document.getElementById(\"a2f5b0ad-2aad-4424-ae8c-979f50457d17\")).parents('.cell').data().cell;\n      cell.output_area.append_execute_result(NB_LOAD_WARNING)\n    }\n\n  }\n\n  if (root._bokeh_is_loading === 0) {\n    console.log(\"Bokeh: BokehJS loaded, going straight to plotting\");\n    run_inline_js();\n  } else {\n    load_libs(js_urls, function() {\n      console.log(\"Bokeh: BokehJS plotting callback run at\", now());\n      run_inline_js();\n    });\n  }\n}(window));"
     },
     "metadata": {},
     "output_type": "display_data"
    },
    {
     "data": {
      "text/html": [
       "\n",
       "<div class=\"bk-root\">\n",
       "    <div class=\"bk-plotdiv\" id=\"23e91030-e3c1-4172-a7ef-283b64e90e8a\"></div>\n",
       "</div>"
      ]
     },
     "metadata": {},
     "output_type": "display_data"
    },
    {
     "data": {
      "application/javascript": [
       "(function(root) {\n",
       "  function embed_document(root) {\n",
       "    \n",
       "  var docs_json = {\"568911ad-9488-4fac-b448-c6d458008227\":{\"roots\":{\"references\":[{\"attributes\":{\"bottom_units\":\"screen\",\"fill_alpha\":{\"value\":0.5},\"fill_color\":{\"value\":\"lightgrey\"},\"left_units\":\"screen\",\"level\":\"overlay\",\"line_alpha\":{\"value\":1.0},\"line_color\":{\"value\":\"black\"},\"line_dash\":[4,4],\"line_width\":{\"value\":2},\"plot\":null,\"render_mode\":\"css\",\"right_units\":\"screen\",\"top_units\":\"screen\"},\"id\":\"5a6f4e3a-72f4-4d1e-8291-cb39cf815588\",\"type\":\"BoxAnnotation\"},{\"attributes\":{\"overlay\":{\"id\":\"5a6f4e3a-72f4-4d1e-8291-cb39cf815588\",\"type\":\"BoxAnnotation\"}},\"id\":\"8630653e-eff3-42c0-9e87-d495305c47ac\",\"type\":\"BoxZoomTool\"},{\"attributes\":{},\"id\":\"4c1d6a95-8208-486e-b6a2-5ece10e8c6a9\",\"type\":\"BasicTicker\"},{\"attributes\":{\"below\":[{\"id\":\"037acfa0-98ad-403c-9178-c645158d73f8\",\"type\":\"LinearAxis\"}],\"left\":[{\"id\":\"e44c0874-1bc7-4458-beba-4f6d041348a6\",\"type\":\"LinearAxis\"}],\"plot_height\":400,\"plot_width\":400,\"renderers\":[{\"id\":\"037acfa0-98ad-403c-9178-c645158d73f8\",\"type\":\"LinearAxis\"},{\"id\":\"d2eb7c98-936f-4106-a21d-2085df45cd9c\",\"type\":\"Grid\"},{\"id\":\"e44c0874-1bc7-4458-beba-4f6d041348a6\",\"type\":\"LinearAxis\"},{\"id\":\"34107671-6e02-4860-96e8-03572605d086\",\"type\":\"Grid\"},{\"id\":\"5a6f4e3a-72f4-4d1e-8291-cb39cf815588\",\"type\":\"BoxAnnotation\"},{\"id\":\"5771f589-135d-491a-bd0b-d3a9e0fb96cf\",\"type\":\"GlyphRenderer\"}],\"title\":{\"id\":\"d84928c9-b76e-4971-9fe5-5b62cd07f46b\",\"type\":\"Title\"},\"toolbar\":{\"id\":\"e2ee4b32-5062-4e2c-82eb-6dadd34e26bc\",\"type\":\"Toolbar\"},\"x_range\":{\"id\":\"45d63cd2-94ae-4f8b-8e21-191d16ec64f0\",\"type\":\"DataRange1d\"},\"x_scale\":{\"id\":\"1d594b12-54b2-4439-8020-49438c9e751e\",\"type\":\"LinearScale\"},\"y_range\":{\"id\":\"0143ec2d-1867-4699-8264-479c4a384e45\",\"type\":\"DataRange1d\"},\"y_scale\":{\"id\":\"29e67e2f-a1c0-402d-88c1-d0fe81b75ae5\",\"type\":\"LinearScale\"}},\"id\":\"b53620c5-0a69-43fb-9e56-10cfb5680144\",\"subtype\":\"Figure\",\"type\":\"Plot\"},{\"attributes\":{},\"id\":\"1d594b12-54b2-4439-8020-49438c9e751e\",\"type\":\"LinearScale\"},{\"attributes\":{},\"id\":\"e4b36a30-ab50-4413-941e-2c932a38e4b4\",\"type\":\"BasicTicker\"},{\"attributes\":{},\"id\":\"218378d3-9ff0-4ab4-8cce-2e209e6bbdaf\",\"type\":\"UnionRenderers\"},{\"attributes\":{\"callback\":null},\"id\":\"45d63cd2-94ae-4f8b-8e21-191d16ec64f0\",\"type\":\"DataRange1d\"},{\"attributes\":{\"plot\":null,\"text\":\"\"},\"id\":\"d84928c9-b76e-4971-9fe5-5b62cd07f46b\",\"type\":\"Title\"},{\"attributes\":{\"active_drag\":\"auto\",\"active_inspect\":\"auto\",\"active_scroll\":\"auto\",\"active_tap\":\"auto\",\"tools\":[{\"id\":\"79bc70b8-ed05-4b6c-aa55-dd6bcf3faed9\",\"type\":\"PanTool\"},{\"id\":\"db877c2b-cb3d-42ae-a4cc-3ce68316a0b3\",\"type\":\"WheelZoomTool\"},{\"id\":\"8630653e-eff3-42c0-9e87-d495305c47ac\",\"type\":\"BoxZoomTool\"},{\"id\":\"1430e483-cd5a-4a05-bec9-8d91d3176ce4\",\"type\":\"SaveTool\"},{\"id\":\"ddcadb1d-60a6-4252-a796-c2dc6522aef1\",\"type\":\"ResetTool\"},{\"id\":\"8aa76c39-a656-4f6f-b7bf-85d7c9602c10\",\"type\":\"HelpTool\"}]},\"id\":\"e2ee4b32-5062-4e2c-82eb-6dadd34e26bc\",\"type\":\"Toolbar\"},{\"attributes\":{\"plot\":{\"id\":\"b53620c5-0a69-43fb-9e56-10cfb5680144\",\"subtype\":\"Figure\",\"type\":\"Plot\"},\"ticker\":{\"id\":\"4c1d6a95-8208-486e-b6a2-5ece10e8c6a9\",\"type\":\"BasicTicker\"}},\"id\":\"d2eb7c98-936f-4106-a21d-2085df45cd9c\",\"type\":\"Grid\"},{\"attributes\":{},\"id\":\"8aa76c39-a656-4f6f-b7bf-85d7c9602c10\",\"type\":\"HelpTool\"},{\"attributes\":{},\"id\":\"79bc70b8-ed05-4b6c-aa55-dd6bcf3faed9\",\"type\":\"PanTool\"},{\"attributes\":{},\"id\":\"db877c2b-cb3d-42ae-a4cc-3ce68316a0b3\",\"type\":\"WheelZoomTool\"},{\"attributes\":{\"formatter\":{\"id\":\"0d418270-ae11-4193-b88b-19dc73cf16a2\",\"type\":\"BasicTickFormatter\"},\"plot\":{\"id\":\"b53620c5-0a69-43fb-9e56-10cfb5680144\",\"subtype\":\"Figure\",\"type\":\"Plot\"},\"ticker\":{\"id\":\"4c1d6a95-8208-486e-b6a2-5ece10e8c6a9\",\"type\":\"BasicTicker\"}},\"id\":\"037acfa0-98ad-403c-9178-c645158d73f8\",\"type\":\"LinearAxis\"},{\"attributes\":{\"line_color\":\"#1f77b4\",\"line_width\":2,\"x\":{\"field\":\"x\"},\"y\":{\"field\":\"y\"}},\"id\":\"789f3bda-2967-4eb3-8389-4e612df6a304\",\"type\":\"Line\"},{\"attributes\":{\"dimension\":1,\"plot\":{\"id\":\"b53620c5-0a69-43fb-9e56-10cfb5680144\",\"subtype\":\"Figure\",\"type\":\"Plot\"},\"ticker\":{\"id\":\"e4b36a30-ab50-4413-941e-2c932a38e4b4\",\"type\":\"BasicTicker\"}},\"id\":\"34107671-6e02-4860-96e8-03572605d086\",\"type\":\"Grid\"},{\"attributes\":{},\"id\":\"1430e483-cd5a-4a05-bec9-8d91d3176ce4\",\"type\":\"SaveTool\"},{\"attributes\":{\"callback\":null},\"id\":\"0143ec2d-1867-4699-8264-479c4a384e45\",\"type\":\"DataRange1d\"},{\"attributes\":{},\"id\":\"0d418270-ae11-4193-b88b-19dc73cf16a2\",\"type\":\"BasicTickFormatter\"},{\"attributes\":{\"data_source\":{\"id\":\"a3857c7b-1bf6-40eb-93e8-208ee806026b\",\"type\":\"ColumnDataSource\"},\"glyph\":{\"id\":\"789f3bda-2967-4eb3-8389-4e612df6a304\",\"type\":\"Line\"},\"hover_glyph\":null,\"muted_glyph\":null,\"nonselection_glyph\":{\"id\":\"d807909d-1b93-4754-858e-282fd4ad7d7b\",\"type\":\"Line\"},\"selection_glyph\":null,\"view\":{\"id\":\"46fe277a-309e-499e-b642-f1db80a82eee\",\"type\":\"CDSView\"}},\"id\":\"5771f589-135d-491a-bd0b-d3a9e0fb96cf\",\"type\":\"GlyphRenderer\"},{\"attributes\":{},\"id\":\"ddcadb1d-60a6-4252-a796-c2dc6522aef1\",\"type\":\"ResetTool\"},{\"attributes\":{\"line_alpha\":0.1,\"line_color\":\"#1f77b4\",\"line_width\":2,\"x\":{\"field\":\"x\"},\"y\":{\"field\":\"y\"}},\"id\":\"d807909d-1b93-4754-858e-282fd4ad7d7b\",\"type\":\"Line\"},{\"attributes\":{},\"id\":\"29e67e2f-a1c0-402d-88c1-d0fe81b75ae5\",\"type\":\"LinearScale\"},{\"attributes\":{\"formatter\":{\"id\":\"01d26aa1-a652-4def-aa55-dd3611dc50c3\",\"type\":\"BasicTickFormatter\"},\"plot\":{\"id\":\"b53620c5-0a69-43fb-9e56-10cfb5680144\",\"subtype\":\"Figure\",\"type\":\"Plot\"},\"ticker\":{\"id\":\"e4b36a30-ab50-4413-941e-2c932a38e4b4\",\"type\":\"BasicTicker\"}},\"id\":\"e44c0874-1bc7-4458-beba-4f6d041348a6\",\"type\":\"LinearAxis\"},{\"attributes\":{},\"id\":\"456b73b9-6ef1-464d-8047-8430fe1461a6\",\"type\":\"Selection\"},{\"attributes\":{},\"id\":\"01d26aa1-a652-4def-aa55-dd3611dc50c3\",\"type\":\"BasicTickFormatter\"},{\"attributes\":{\"source\":{\"id\":\"a3857c7b-1bf6-40eb-93e8-208ee806026b\",\"type\":\"ColumnDataSource\"}},\"id\":\"46fe277a-309e-499e-b642-f1db80a82eee\",\"type\":\"CDSView\"},{\"attributes\":{\"callback\":null,\"data\":{\"x\":[5,6,7,8,9,10,11,12,13,14,15,16,17,18,19,20,21,22,23,24,25,26,27,28,29,30,31,32,33,34,35,36,37,38,39,40,41,42,43,44,45,46,47,48,49,50,51,52,53,54,55,56,57,58,59,60,61,62,63,64,65,66,67,68,69,70,71,72,73,74,75,76,77,78,79,80,81,82,83,84,85,86,87,88,89,90,91,92,93,94,95,96,97,98,99],\"y\":[1.4709274183236065,1.3020150601183045,1.162306369146231,0.867405676863591,0.8447353309851918,0.7995182710250883,0.7890595024572056,0.7225761851185828,0.6766692606674178,0.6311878595434856,0.5950920092561325,0.6097107913332542,0.5770669539997705,0.5581696250795831,0.5143057044469919,0.5180597622060938,0.492844934318689,0.4602202241273087,0.47055529966285564,0.4546594328262917,0.4439816861118104,0.4300435428487188,0.43195926724492884,0.3980903068353687,0.4173248100432383,0.41279817288204557,0.39238100177395924,0.39494782662269406,0.37466029738708195,0.3637150730256845,0.38218891834725344,0.34689934511870835,0.35843396407253975,0.35586157859161494,0.3336505743540946,0.33082725256035295,0.33352656719181933,0.33520798774662025,0.3277595945072145,0.3114262803807332,0.3063114145417684,0.3254594916626581,0.30990334363479904,0.30108087493239827,0.29459676948215086,0.29523578545840223,0.2903195382732273,0.2847325107906709,0.28877725488136347,0.28961245319959134,0.28067391995920205,0.2843938513883839,0.27249907330183093,0.27051422783278095,0.27206029836132767,0.28167375304218867,0.26638677294379,0.2545887241029698,0.25387869840019656,0.2691887592147528,0.2504720881802784,0.2466658549136844,0.252353195223823,0.2559006419867779,0.2510696576496033,0.24285117003454484,0.24803156393152961,0.24143614946222186,0.24280330879431233,0.24844111072538738,0.24561385194169136,0.23856876973498006,0.23186589444966774,0.23330702880719414,0.22751926307308706,0.2316947102598372,0.2213557707153692,0.23025642683211067,0.2289429972803191,0.2272924236659111,0.22533513562635596,0.23216681289177696,0.2160090916763914,0.21585722517815192,0.21557089446792235,0.22024429165209353,0.21345948706935797,0.20958750105970464,0.20314013920204013,0.20853575193772572,0.2103547724865483,0.20840439817478096,0.20713312820485386,0.1981667373334228,0.2020663737004079]},\"selected\":{\"id\":\"456b73b9-6ef1-464d-8047-8430fe1461a6\",\"type\":\"Selection\"},\"selection_policy\":{\"id\":\"218378d3-9ff0-4ab4-8cce-2e209e6bbdaf\",\"type\":\"UnionRenderers\"}},\"id\":\"a3857c7b-1bf6-40eb-93e8-208ee806026b\",\"type\":\"ColumnDataSource\"}],\"root_ids\":[\"b53620c5-0a69-43fb-9e56-10cfb5680144\"]},\"title\":\"Bokeh Application\",\"version\":\"0.12.16\"}};\n",
       "  var render_items = [{\"docid\":\"568911ad-9488-4fac-b448-c6d458008227\",\"elementid\":\"23e91030-e3c1-4172-a7ef-283b64e90e8a\",\"modelid\":\"b53620c5-0a69-43fb-9e56-10cfb5680144\",\"notebook_comms_target\":\"56e0da21-09ae-4d20-810c-698f4c320b02\"}];\n",
       "  root.Bokeh.embed.embed_items_notebook(docs_json, render_items);\n",
       "\n",
       "  }\n",
       "  if (root.Bokeh !== undefined) {\n",
       "    embed_document(root);\n",
       "  } else {\n",
       "    var attempts = 0;\n",
       "    var timer = setInterval(function(root) {\n",
       "      if (root.Bokeh !== undefined) {\n",
       "        embed_document(root);\n",
       "        clearInterval(timer);\n",
       "      }\n",
       "      attempts++;\n",
       "      if (attempts > 100) {\n",
       "        console.log(\"Bokeh: ERROR: Unable to run BokehJS code because BokehJS library is missing\")\n",
       "        clearInterval(timer);\n",
       "      }\n",
       "    }, 10, root)\n",
       "  }\n",
       "})(window);"
      ],
      "application/vnd.bokehjs_exec.v0+json": ""
     },
     "metadata": {
      "application/vnd.bokehjs_exec.v0+json": {
       "id": "b53620c5-0a69-43fb-9e56-10cfb5680144"
      }
     },
     "output_type": "display_data"
    }
   ],
   "source": [
    "ns = [5,10,50,100]\n",
    "ns = range(5,100)\n",
    "\n",
    "rmses = []\n",
    "for sample_size in ns:\n",
    "    means, rmse = exp5(n=sample_size)\n",
    "    rmses.append(rmse)\n",
    "    \n",
    "from bokeh.io import push_notebook, show, output_notebook\n",
    "from bokeh.layouts import row\n",
    "from bokeh.plotting import figure\n",
    "output_notebook()\n",
    "\n",
    "p = figure(plot_width=400, plot_height=400)\n",
    "\n",
    "# add a line renderer\n",
    "p.line(ns, rmses, line_width=2)\n",
    "\n",
    "t = show(p, notebook_handle=True)\n",
    "push_notebook(handle=t)"
   ]
  },
  {
   "cell_type": "markdown",
   "metadata": {},
   "source": [
    "**Exercise:** In games like hockey and soccer, the time between goals is roughly exponential. So you could estimate a team’s goal-scoring rate by observing the number of goals they score in a game. This estimation process is a little different from sampling the time between goals, so let’s see how it works.\n",
    "\n",
    "Write a function that takes a goal-scoring rate, `lam`, in goals per game, and simulates a game by generating the time between goals until the total time exceeds 1 game, then returns the number of goals scored.\n",
    "\n",
    "Write another function that simulates many games, stores the estimates of `lam`, then computes their mean error and RMSE.\n",
    "\n",
    "Is this way of making an estimate biased?"
   ]
  },
  {
   "cell_type": "code",
   "execution_count": 16,
   "metadata": {},
   "outputs": [],
   "source": [
    "def SimulateGame(lam):\n",
    "    \"\"\"Simulates a game and returns the estimated goal-scoring rate.\n",
    "\n",
    "    lam: actual goal scoring rate in goals per game\n",
    "    \"\"\"\n",
    "    goals = 0\n",
    "    t = 0\n",
    "    while True:\n",
    "        time_between_goals = random.expovariate(lam)\n",
    "        t += time_between_goals\n",
    "        if t > 1:\n",
    "            break\n",
    "        goals += 1\n",
    "\n",
    "    # estimated goal-scoring rate is the actual number of goals scored\n",
    "    L = goals\n",
    "    return L"
   ]
  },
  {
   "cell_type": "code",
   "execution_count": 17,
   "metadata": {},
   "outputs": [],
   "source": [
    "# Solution goes here"
   ]
  },
  {
   "cell_type": "code",
   "execution_count": 18,
   "metadata": {},
   "outputs": [],
   "source": [
    "# Solution goes here"
   ]
  },
  {
   "cell_type": "code",
   "execution_count": null,
   "metadata": {},
   "outputs": [],
   "source": []
  }
 ],
 "metadata": {
  "kernelspec": {
   "display_name": "Python 3",
   "language": "python",
   "name": "python3"
  },
  "language_info": {
   "codemirror_mode": {
    "name": "ipython",
    "version": 3
   },
   "file_extension": ".py",
   "mimetype": "text/x-python",
   "name": "python",
   "nbconvert_exporter": "python",
   "pygments_lexer": "ipython3",
   "version": "3.6.5"
  }
 },
 "nbformat": 4,
 "nbformat_minor": 2
}
